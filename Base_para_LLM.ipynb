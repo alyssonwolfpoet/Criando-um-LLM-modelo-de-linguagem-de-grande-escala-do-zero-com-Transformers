{
 "cells": [
  {
   "cell_type": "code",
   "execution_count": 1,
   "metadata": {},
   "outputs": [],
   "source": [
    "# Dicionário para mapear palavras para índices\n",
    "word_to_index = {\n",
    "'Olá': 1,\n",
    "'mundo': 2,\n",
    "'como': 3,\n",
    "'você': 4,\n",
    "'está': 5\n",
    "}"
   ]
  },
  {
   "cell_type": "code",
   "execution_count": 2,
   "metadata": {},
   "outputs": [],
   "source": [
    "#A função de encode vai receber uma lista de palavras e converterá cada palavra\n",
    "#em seu índice correspondente usando o dicionário.\n",
    "def encode(text):\n",
    "    return [word_to_index[word] for word in text.split() if word in word_to_index]"
   ]
  },
  {
   "cell_type": "code",
   "execution_count": 3,
   "metadata": {},
   "outputs": [],
   "source": [
    "# Dicionário para mapear índices para palavras\n",
    "index_to_word = {index: word for word, index in word_to_index.items()}"
   ]
  },
  {
   "cell_type": "code",
   "execution_count": 4,
   "metadata": {},
   "outputs": [],
   "source": [
    "# A função de decode vai converter uma lista de índices de volta para uma\n",
    "# string de palavras.\n",
    "def decode(indices):\n",
    "    return ' '.join(index_to_word[index] for index in indices if index in index_to_word)"
   ]
  },
  {
   "cell_type": "code",
   "execution_count": 5,
   "metadata": {},
   "outputs": [],
   "source": [
    "# Texto de exemplo\n",
    "text = \"Olá mundo como você está\""
   ]
  },
  {
   "cell_type": "code",
   "execution_count": 6,
   "metadata": {},
   "outputs": [
    {
     "name": "stdout",
     "output_type": "stream",
     "text": [
      "Encoded: [1, 2, 3, 4, 5]\n"
     ]
    }
   ],
   "source": [
    "# Codificação\n",
    "encoded_text = encode(text)\n",
    "print(\"Encoded:\", encoded_text)"
   ]
  },
  {
   "cell_type": "code",
   "execution_count": 7,
   "metadata": {},
   "outputs": [
    {
     "name": "stdout",
     "output_type": "stream",
     "text": [
      "Decoded: Olá mundo como você está\n"
     ]
    }
   ],
   "source": [
    "# Decodificação\n",
    "decoded_text = decode(encoded_text)\n",
    "print(\"Decoded:\", decoded_text)"
   ]
  }
 ],
 "metadata": {
  "kernelspec": {
   "display_name": ".venv",
   "language": "python",
   "name": "python3"
  },
  "language_info": {
   "codemirror_mode": {
    "name": "ipython",
    "version": 3
   },
   "file_extension": ".py",
   "mimetype": "text/x-python",
   "name": "python",
   "nbconvert_exporter": "python",
   "pygments_lexer": "ipython3",
   "version": "3.12.4"
  }
 },
 "nbformat": 4,
 "nbformat_minor": 2
}
