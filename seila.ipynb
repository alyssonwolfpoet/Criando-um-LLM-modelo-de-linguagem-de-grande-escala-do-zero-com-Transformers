{
 "cells": [
  {
   "cell_type": "code",
   "execution_count": 1,
   "metadata": {},
   "outputs": [
    {
     "ename": "ModuleNotFoundError",
     "evalue": "No module named 'nltk'",
     "output_type": "error",
     "traceback": [
      "\u001b[1;31m---------------------------------------------------------------------------\u001b[0m",
      "\u001b[1;31mModuleNotFoundError\u001b[0m                       Traceback (most recent call last)",
      "Cell \u001b[1;32mIn[1], line 2\u001b[0m\n\u001b[0;32m      1\u001b[0m \u001b[38;5;28;01mimport\u001b[39;00m \u001b[38;5;21;01mfitz\u001b[39;00m  \u001b[38;5;66;03m# PyMuPDF\u001b[39;00m\n\u001b[1;32m----> 2\u001b[0m \u001b[38;5;28;01mimport\u001b[39;00m \u001b[38;5;21;01mnltk\u001b[39;00m\n\u001b[0;32m      3\u001b[0m \u001b[38;5;28;01mfrom\u001b[39;00m \u001b[38;5;21;01mnltk\u001b[39;00m\u001b[38;5;21;01m.\u001b[39;00m\u001b[38;5;21;01mtokenize\u001b[39;00m \u001b[38;5;28;01mimport\u001b[39;00m word_tokenize\n\u001b[0;32m      4\u001b[0m \u001b[38;5;28;01mfrom\u001b[39;00m \u001b[38;5;21;01mnltk\u001b[39;00m\u001b[38;5;21;01m.\u001b[39;00m\u001b[38;5;21;01mcorpus\u001b[39;00m \u001b[38;5;28;01mimport\u001b[39;00m stopwords\n",
      "\u001b[1;31mModuleNotFoundError\u001b[0m: No module named 'nltk'"
     ]
    }
   ],
   "source": [
    "import fitz  # PyMuPDF\n",
    "import nltk\n",
    "from nltk.tokenize import word_tokenize\n",
    "from nltk.corpus import stopwords\n",
    "\n",
    "# Baixar recursos do NLTK (stopwords)\n",
    "nltk.download('punkt')\n",
    "nltk.download('stopwords')\n",
    "\n",
    "def ler_pdf(nome_arquivo):\n",
    "    texto = \"\"\n",
    "    with fitz.open(nome_arquivo) as doc:\n",
    "        for page_num in range(len(doc)):\n",
    "            page = doc.load_page(page_num)\n",
    "            texto += page.get_text()\n",
    "    return texto\n",
    "\n",
    "def processar_pergunta(pergunta, texto):\n",
    "    # Tokenizar pergunta e texto\n",
    "    tokens_pergunta = word_tokenize(pergunta.lower())\n",
    "    tokens_texto = word_tokenize(texto.lower())\n",
    "\n",
    "    # Remover stopwords\n",
    "    stop_words = set(stopwords.words('english'))\n",
    "    tokens_pergunta = [token for token in tokens_pergunta if token not in stop_words]\n",
    "    tokens_texto = [token for token in tokens_texto if token not in stop_words]\n",
    "\n",
    "    # Verificar correspondência de palavras-chave\n",
    "    for token in tokens_pergunta:\n",
    "        if token in tokens_texto:\n",
    "            return True\n",
    "    return False\n",
    "\n",
    "# Exemplo de uso:\n",
    "nome_arquivo = \"exemplo.pdf\"\n",
    "pergunta = \"qual é o título do documento?\"\n",
    "\n",
    "texto_pdf = ler_pdf(nome_arquivo)\n",
    "if processar_pergunta(pergunta, texto_pdf):\n",
    "    print(f\"Resposta para '{pergunta}': Encontrado no documento.\")\n",
    "else:\n",
    "    print(f\"Resposta para '{pergunta}': Não encontrado no documento.\")\n"
   ]
  },
  {
   "cell_type": "code",
   "execution_count": null,
   "metadata": {},
   "outputs": [],
   "source": [
    "pip install nltk"
   ]
  }
 ],
 "metadata": {
  "kernelspec": {
   "display_name": ".venv",
   "language": "python",
   "name": "python3"
  },
  "language_info": {
   "codemirror_mode": {
    "name": "ipython",
    "version": 3
   },
   "file_extension": ".py",
   "mimetype": "text/x-python",
   "name": "python",
   "nbconvert_exporter": "python",
   "pygments_lexer": "ipython3",
   "version": "3.12.4"
  }
 },
 "nbformat": 4,
 "nbformat_minor": 2
}
