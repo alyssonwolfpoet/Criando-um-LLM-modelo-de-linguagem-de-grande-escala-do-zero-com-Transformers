{
 "cells": [
  {
   "cell_type": "code",
   "execution_count": 1,
   "metadata": {},
   "outputs": [
    {
     "name": "stdout",
     "output_type": "stream",
     "text": [
      "Requirement already satisfied: PyMuPDF in ./.venv/lib/python3.10/site-packages (1.24.7)\n",
      "Requirement already satisfied: transformers in ./.venv/lib/python3.10/site-packages (4.42.3)\n",
      "Requirement already satisfied: PyMuPDFb==1.24.6 in ./.venv/lib/python3.10/site-packages (from PyMuPDF) (1.24.6)\n",
      "Requirement already satisfied: filelock in ./.venv/lib/python3.10/site-packages (from transformers) (3.15.4)\n",
      "Requirement already satisfied: huggingface-hub<1.0,>=0.23.2 in ./.venv/lib/python3.10/site-packages (from transformers) (0.23.4)\n",
      "Requirement already satisfied: numpy<2.0,>=1.17 in ./.venv/lib/python3.10/site-packages (from transformers) (1.26.4)\n",
      "Requirement already satisfied: packaging>=20.0 in ./.venv/lib/python3.10/site-packages (from transformers) (24.1)\n",
      "Requirement already satisfied: pyyaml>=5.1 in ./.venv/lib/python3.10/site-packages (from transformers) (6.0.1)\n",
      "Requirement already satisfied: regex!=2019.12.17 in ./.venv/lib/python3.10/site-packages (from transformers) (2024.5.15)\n",
      "Requirement already satisfied: requests in ./.venv/lib/python3.10/site-packages (from transformers) (2.32.3)\n",
      "Requirement already satisfied: safetensors>=0.4.1 in ./.venv/lib/python3.10/site-packages (from transformers) (0.4.3)\n",
      "Requirement already satisfied: tokenizers<0.20,>=0.19 in ./.venv/lib/python3.10/site-packages (from transformers) (0.19.1)\n",
      "Requirement already satisfied: tqdm>=4.27 in ./.venv/lib/python3.10/site-packages (from transformers) (4.66.4)\n",
      "Requirement already satisfied: fsspec>=2023.5.0 in ./.venv/lib/python3.10/site-packages (from huggingface-hub<1.0,>=0.23.2->transformers) (2024.5.0)\n",
      "Requirement already satisfied: typing-extensions>=3.7.4.3 in ./.venv/lib/python3.10/site-packages (from huggingface-hub<1.0,>=0.23.2->transformers) (4.12.2)\n",
      "Requirement already satisfied: charset-normalizer<4,>=2 in ./.venv/lib/python3.10/site-packages (from requests->transformers) (3.3.2)\n",
      "Requirement already satisfied: idna<4,>=2.5 in ./.venv/lib/python3.10/site-packages (from requests->transformers) (3.7)\n",
      "Requirement already satisfied: urllib3<3,>=1.21.1 in ./.venv/lib/python3.10/site-packages (from requests->transformers) (2.2.2)\n",
      "Requirement already satisfied: certifi>=2017.4.17 in ./.venv/lib/python3.10/site-packages (from requests->transformers) (2024.7.4)\n",
      "Note: you may need to restart the kernel to use updated packages.\n"
     ]
    }
   ],
   "source": [
    "pip install PyMuPDF transformers"
   ]
  },
  {
   "cell_type": "code",
   "execution_count": 2,
   "metadata": {},
   "outputs": [
    {
     "name": "stderr",
     "output_type": "stream",
     "text": [
      "/home/alysson/workspace/Criando-um-LLM-modelo-de-linguagem-de-grande-escala-do-zero-com-Transformers/.venv/lib/python3.10/site-packages/tqdm/auto.py:21: TqdmWarning: IProgress not found. Please update jupyter and ipywidgets. See https://ipywidgets.readthedocs.io/en/stable/user_install.html\n",
      "  from .autonotebook import tqdm as notebook_tqdm\n"
     ]
    }
   ],
   "source": [
    "import fitz  # PyMuPDF\n",
    "from transformers import pipeline\n"
   ]
  },
  {
   "cell_type": "code",
   "execution_count": 3,
   "metadata": {},
   "outputs": [],
   "source": [
    "# Função para extrair texto de um arquivo PDF\n",
    "def extrair_texto_pdf(arquivo_pdf):\n",
    "    texto = \"\"\n",
    "    documento = fitz.open(arquivo_pdf)\n",
    "    for pagina_num in range(len(documento)):\n",
    "        pagina = documento.load_page(pagina_num)\n",
    "        texto += pagina.get_text()\n",
    "    return texto"
   ]
  },
  {
   "cell_type": "code",
   "execution_count": 4,
   "metadata": {},
   "outputs": [],
   "source": [
    "# Função para responder perguntas sobre o texto extraído\n",
    "def responder_perguntas(texto, pergunta):\n",
    "    nlp_pipeline = pipeline(\"question-answering\", model=\"bert-large-uncased-whole-word-masking-finetuned-squad\")\n",
    "    resposta = nlp_pipeline(question=pergunta, context=texto)\n",
    "    return resposta[\"answer\"]"
   ]
  },
  {
   "cell_type": "code",
   "execution_count": 5,
   "metadata": {},
   "outputs": [],
   "source": [
    "# Arquivo PDF de exemplo\n",
    "#arquivo_pdf = \"exemplo.pdf\"\n",
    "arquivo_pdf = \"Codigo Limpo - Completo PT.pdf\""
   ]
  },
  {
   "cell_type": "code",
   "execution_count": 7,
   "metadata": {},
   "outputs": [],
   "source": [
    "# Extrair texto do PDF\n",
    "texto_pdf = extrair_texto_pdf(arquivo_pdf)"
   ]
  },
  {
   "cell_type": "code",
   "execution_count": 8,
   "metadata": {},
   "outputs": [],
   "source": [
    "# Pergunta sobre o conteúdo do PDF\n",
    "pergunta = \"Qual é o tema principal deste documento?\""
   ]
  },
  {
   "cell_type": "code",
   "execution_count": 9,
   "metadata": {},
   "outputs": [
    {
     "name": "stderr",
     "output_type": "stream",
     "text": [
      "Some weights of the model checkpoint at bert-large-uncased-whole-word-masking-finetuned-squad were not used when initializing BertForQuestionAnswering: ['bert.pooler.dense.bias', 'bert.pooler.dense.weight']\n",
      "- This IS expected if you are initializing BertForQuestionAnswering from the checkpoint of a model trained on another task or with another architecture (e.g. initializing a BertForSequenceClassification model from a BertForPreTraining model).\n",
      "- This IS NOT expected if you are initializing BertForQuestionAnswering from the checkpoint of a model that you expect to be exactly identical (initializing a BertForSequenceClassification model from a BertForSequenceClassification model).\n",
      "Hardware accelerator e.g. GPU is available in the environment, but no `device` argument is passed to the `Pipeline` object. Model will be on CPU.\n"
     ]
    }
   ],
   "source": [
    "# Responder à pergunta usando o texto do PDF\n",
    "resposta = responder_perguntas(texto_pdf, pergunta)"
   ]
  },
  {
   "cell_type": "code",
   "execution_count": 10,
   "metadata": {},
   "outputs": [
    {
     "name": "stdout",
     "output_type": "stream",
     "text": [
      "Resposta: .\n"
     ]
    }
   ],
   "source": [
    "# Exibir a resposta\n",
    "print(f\"Resposta: {resposta}\")"
   ]
  },
  {
   "cell_type": "code",
   "execution_count": 11,
   "metadata": {},
   "outputs": [
    {
     "data": {
      "text/plain": [
       "'\\n\\nPara criar um código que leia um arquivo PDF e responda perguntas sobre o conteúdo, podemos usar algumas bibliotecas Python como PyMuPDF para extrair texto de PDFs e transformers para responder perguntas usando um modelo pré-treinado como o bert-large-uncased-whole-word-masking-finetuned-squad.\\n\\nCertifique-se de ter instalado as bibliotecas necessárias antes de executar o código. Você pode instalá-las usando pip:\\n\\nbash\\n\\npip install PyMuPDF transformers\\n\\nAqui está um exemplo de código que faz isso:\\n\\npython\\n\\nimport fitz  # PyMuPDF\\nfrom transformers import pipeline\\n\\n# Função para extrair texto de um arquivo PDF\\ndef extrair_texto_pdf(arquivo_pdf):\\n    texto = \"\"\\n    documento = fitz.open(arquivo_pdf)\\n    for pagina_num in range(len(documento)):\\n        pagina = documento.load_page(pagina_num)\\n        texto += pagina.get_text()\\n    return texto\\n\\n# Função para responder perguntas sobre o texto extraído\\ndef responder_perguntas(texto, pergunta):\\n    nlp_pipeline = pipeline(\"question-answering\", model=\"bert-large-uncased-whole-word-masking-finetuned-squad\")\\n    resposta = nlp_pipeline(question=pergunta, context=texto)\\n    return resposta[\"answer\"]\\n\\n# Arquivo PDF de exemplo\\narquivo_pdf = \"exemplo.pdf\"\\n\\n# Extrair texto do PDF\\ntexto_pdf = extrair_texto_pdf(arquivo_pdf)\\n\\n# Pergunta sobre o conteúdo do PDF\\npergunta = \"Qual é o tema principal deste documento?\"\\n\\n# Responder à pergunta usando o texto do PDF\\nresposta = responder_perguntas(texto_pdf, pergunta)\\n\\n# Exibir a resposta\\nprint(f\"Resposta: {resposta}\")\\n\\nExplicação do código:\\n\\n    Extraindo texto do PDF: A função extrair_texto_pdf usa a biblioteca fitz (parte do PyMuPDF) para abrir o arquivo PDF e extrair texto de todas as páginas.\\n\\n    Respondendo perguntas: A função responder_perguntas usa a biblioteca transformers para carregar um modelo pré-treinado de question answering (perguntas e respostas) da Hugging Face\\'s model hub. Neste exemplo, estamos usando o modelo bert-large-uncased-whole-word-masking-finetuned-squad, que é bem conhecido e treinado na tarefa de responder perguntas sobre texto.\\n\\n    Execução do exemplo: O exemplo carrega um arquivo PDF (exemplo.pdf), extrai o texto, faz uma pergunta sobre o conteúdo do PDF e obtém a resposta usando o modelo BERT treinado.\\n\\nCertifique-se de adaptar o código conforme necessário, especialmente se estiver trabalhando com PDFs complexos ou formatados de maneira diferente.\\n\\nO aviso que você está recebendo é informativo e não deve afetar diretamente o funcionamento do seu código para responder perguntas sobre um PDF usando o modelo BERT. Vamos explicar os pontos principais do aviso:\\n\\n    Aviso sobre cache e symlinks: O aviso menciona que o sistema de cache do huggingface_hub utiliza symlinks por padrão para armazenar arquivos duplicados de forma eficiente. No entanto, o seu sistema (Windows) não suporta symlinks da maneira padrão, o que pode resultar em uma versão de cache degradada que consome mais espaço em disco.\\n\\n    Peso do modelo não utilizado: O aviso também informa que alguns pesos do modelo BERT não foram utilizados ao inicializar o BertForQuestionAnswering. Isso é esperado porque o modelo BERT original pode ter pesos adicionais que não são necessários para a tarefa específica de question answering.\\n\\nEsses avisos não são erros críticos e não devem impedir que o código funcione como esperado. No entanto, se você estiver enfrentando problemas adicionais, como falhas na execução do código ou erros específicos, seria útil verificar se todas as dependências estão instaladas corretamente e se o ambiente de desenvolvimento está configurado adequadamente.\\n\\nSe o seu código está executando corretamente e você está obtendo respostas para suas perguntas sobre o PDF, você pode ignorar esses avisos ou seguir as sugestões fornecidas para melhorar a eficiência do cache (como ativar o modo de desenvolvedor no Windows ou executar o Python como administrador, conforme mencionado no aviso).\\n\\nSe precisar de mais assistência ou tiver outras perguntas, estou à disposição para ajudar!\\n\\n'"
      ]
     },
     "execution_count": 11,
     "metadata": {},
     "output_type": "execute_result"
    }
   ],
   "source": [
    "\"\"\"\n",
    "\n",
    "Para criar um código que leia um arquivo PDF e responda perguntas sobre o conteúdo, podemos usar algumas bibliotecas Python como PyMuPDF para extrair texto de PDFs e transformers para responder perguntas usando um modelo pré-treinado como o bert-large-uncased-whole-word-masking-finetuned-squad.\n",
    "\n",
    "Certifique-se de ter instalado as bibliotecas necessárias antes de executar o código. Você pode instalá-las usando pip:\n",
    "\n",
    "bash\n",
    "\n",
    "pip install PyMuPDF transformers\n",
    "\n",
    "Aqui está um exemplo de código que faz isso:\n",
    "\n",
    "python\n",
    "\n",
    "import fitz  # PyMuPDF\n",
    "from transformers import pipeline\n",
    "\n",
    "# Função para extrair texto de um arquivo PDF\n",
    "def extrair_texto_pdf(arquivo_pdf):\n",
    "    texto = \"\"\n",
    "    documento = fitz.open(arquivo_pdf)\n",
    "    for pagina_num in range(len(documento)):\n",
    "        pagina = documento.load_page(pagina_num)\n",
    "        texto += pagina.get_text()\n",
    "    return texto\n",
    "\n",
    "# Função para responder perguntas sobre o texto extraído\n",
    "def responder_perguntas(texto, pergunta):\n",
    "    nlp_pipeline = pipeline(\"question-answering\", model=\"bert-large-uncased-whole-word-masking-finetuned-squad\")\n",
    "    resposta = nlp_pipeline(question=pergunta, context=texto)\n",
    "    return resposta[\"answer\"]\n",
    "\n",
    "# Arquivo PDF de exemplo\n",
    "arquivo_pdf = \"exemplo.pdf\"\n",
    "\n",
    "# Extrair texto do PDF\n",
    "texto_pdf = extrair_texto_pdf(arquivo_pdf)\n",
    "\n",
    "# Pergunta sobre o conteúdo do PDF\n",
    "pergunta = \"Qual é o tema principal deste documento?\"\n",
    "\n",
    "# Responder à pergunta usando o texto do PDF\n",
    "resposta = responder_perguntas(texto_pdf, pergunta)\n",
    "\n",
    "# Exibir a resposta\n",
    "print(f\"Resposta: {resposta}\")\n",
    "\n",
    "Explicação do código:\n",
    "\n",
    "    Extraindo texto do PDF: A função extrair_texto_pdf usa a biblioteca fitz (parte do PyMuPDF) para abrir o arquivo PDF e extrair texto de todas as páginas.\n",
    "\n",
    "    Respondendo perguntas: A função responder_perguntas usa a biblioteca transformers para carregar um modelo pré-treinado de question answering (perguntas e respostas) da Hugging Face's model hub. Neste exemplo, estamos usando o modelo bert-large-uncased-whole-word-masking-finetuned-squad, que é bem conhecido e treinado na tarefa de responder perguntas sobre texto.\n",
    "\n",
    "    Execução do exemplo: O exemplo carrega um arquivo PDF (exemplo.pdf), extrai o texto, faz uma pergunta sobre o conteúdo do PDF e obtém a resposta usando o modelo BERT treinado.\n",
    "\n",
    "Certifique-se de adaptar o código conforme necessário, especialmente se estiver trabalhando com PDFs complexos ou formatados de maneira diferente.\n",
    "\n",
    "O aviso que você está recebendo é informativo e não deve afetar diretamente o funcionamento do seu código para responder perguntas sobre um PDF usando o modelo BERT. Vamos explicar os pontos principais do aviso:\n",
    "\n",
    "    Aviso sobre cache e symlinks: O aviso menciona que o sistema de cache do huggingface_hub utiliza symlinks por padrão para armazenar arquivos duplicados de forma eficiente. No entanto, o seu sistema (Windows) não suporta symlinks da maneira padrão, o que pode resultar em uma versão de cache degradada que consome mais espaço em disco.\n",
    "\n",
    "    Peso do modelo não utilizado: O aviso também informa que alguns pesos do modelo BERT não foram utilizados ao inicializar o BertForQuestionAnswering. Isso é esperado porque o modelo BERT original pode ter pesos adicionais que não são necessários para a tarefa específica de question answering.\n",
    "\n",
    "Esses avisos não são erros críticos e não devem impedir que o código funcione como esperado. No entanto, se você estiver enfrentando problemas adicionais, como falhas na execução do código ou erros específicos, seria útil verificar se todas as dependências estão instaladas corretamente e se o ambiente de desenvolvimento está configurado adequadamente.\n",
    "\n",
    "Se o seu código está executando corretamente e você está obtendo respostas para suas perguntas sobre o PDF, você pode ignorar esses avisos ou seguir as sugestões fornecidas para melhorar a eficiência do cache (como ativar o modo de desenvolvedor no Windows ou executar o Python como administrador, conforme mencionado no aviso).\n",
    "\n",
    "Se precisar de mais assistência ou tiver outras perguntas, estou à disposição para ajudar!\n",
    "\n",
    "\"\"\""
   ]
  }
 ],
 "metadata": {
  "kernelspec": {
   "display_name": ".venv",
   "language": "python",
   "name": "python3"
  },
  "language_info": {
   "codemirror_mode": {
    "name": "ipython",
    "version": 3
   },
   "file_extension": ".py",
   "mimetype": "text/x-python",
   "name": "python",
   "nbconvert_exporter": "python",
   "pygments_lexer": "ipython3",
   "version": "3.10.12"
  }
 },
 "nbformat": 4,
 "nbformat_minor": 2
}
