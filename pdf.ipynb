{
 "cells": [
  {
   "cell_type": "code",
   "execution_count": 1,
   "metadata": {},
   "outputs": [
    {
     "name": "stdout",
     "output_type": "stream",
     "text": [
      "Collecting PyMuPDF\n",
      "  Downloading PyMuPDF-1.24.7-cp312-none-win_amd64.whl.metadata (3.4 kB)\n",
      "Requirement already satisfied: transformers in c:\\users\\alysson\\desktop\\alysson teste\\criando-um-llm-modelo-de-linguagem-de-grande-escala-do-zero-com-transformers\\.venv\\lib\\site-packages (4.42.3)\n",
      "Collecting PyMuPDFb==1.24.6 (from PyMuPDF)\n",
      "  Downloading PyMuPDFb-1.24.6-py3-none-win_amd64.whl.metadata (1.4 kB)\n",
      "Requirement already satisfied: filelock in c:\\users\\alysson\\desktop\\alysson teste\\criando-um-llm-modelo-de-linguagem-de-grande-escala-do-zero-com-transformers\\.venv\\lib\\site-packages (from transformers) (3.15.4)\n",
      "Requirement already satisfied: huggingface-hub<1.0,>=0.23.2 in c:\\users\\alysson\\desktop\\alysson teste\\criando-um-llm-modelo-de-linguagem-de-grande-escala-do-zero-com-transformers\\.venv\\lib\\site-packages (from transformers) (0.23.4)\n",
      "Requirement already satisfied: numpy<2.0,>=1.17 in c:\\users\\alysson\\desktop\\alysson teste\\criando-um-llm-modelo-de-linguagem-de-grande-escala-do-zero-com-transformers\\.venv\\lib\\site-packages (from transformers) (1.26.4)\n",
      "Requirement already satisfied: packaging>=20.0 in c:\\users\\alysson\\desktop\\alysson teste\\criando-um-llm-modelo-de-linguagem-de-grande-escala-do-zero-com-transformers\\.venv\\lib\\site-packages (from transformers) (24.1)\n",
      "Requirement already satisfied: pyyaml>=5.1 in c:\\users\\alysson\\desktop\\alysson teste\\criando-um-llm-modelo-de-linguagem-de-grande-escala-do-zero-com-transformers\\.venv\\lib\\site-packages (from transformers) (6.0.1)\n",
      "Requirement already satisfied: regex!=2019.12.17 in c:\\users\\alysson\\desktop\\alysson teste\\criando-um-llm-modelo-de-linguagem-de-grande-escala-do-zero-com-transformers\\.venv\\lib\\site-packages (from transformers) (2024.5.15)\n",
      "Requirement already satisfied: requests in c:\\users\\alysson\\desktop\\alysson teste\\criando-um-llm-modelo-de-linguagem-de-grande-escala-do-zero-com-transformers\\.venv\\lib\\site-packages (from transformers) (2.32.3)\n",
      "Requirement already satisfied: safetensors>=0.4.1 in c:\\users\\alysson\\desktop\\alysson teste\\criando-um-llm-modelo-de-linguagem-de-grande-escala-do-zero-com-transformers\\.venv\\lib\\site-packages (from transformers) (0.4.3)\n",
      "Requirement already satisfied: tokenizers<0.20,>=0.19 in c:\\users\\alysson\\desktop\\alysson teste\\criando-um-llm-modelo-de-linguagem-de-grande-escala-do-zero-com-transformers\\.venv\\lib\\site-packages (from transformers) (0.19.1)\n",
      "Requirement already satisfied: tqdm>=4.27 in c:\\users\\alysson\\desktop\\alysson teste\\criando-um-llm-modelo-de-linguagem-de-grande-escala-do-zero-com-transformers\\.venv\\lib\\site-packages (from transformers) (4.66.4)\n",
      "Requirement already satisfied: fsspec>=2023.5.0 in c:\\users\\alysson\\desktop\\alysson teste\\criando-um-llm-modelo-de-linguagem-de-grande-escala-do-zero-com-transformers\\.venv\\lib\\site-packages (from huggingface-hub<1.0,>=0.23.2->transformers) (2024.5.0)\n",
      "Requirement already satisfied: typing-extensions>=3.7.4.3 in c:\\users\\alysson\\desktop\\alysson teste\\criando-um-llm-modelo-de-linguagem-de-grande-escala-do-zero-com-transformers\\.venv\\lib\\site-packages (from huggingface-hub<1.0,>=0.23.2->transformers) (4.12.2)\n",
      "Requirement already satisfied: colorama in c:\\users\\alysson\\desktop\\alysson teste\\criando-um-llm-modelo-de-linguagem-de-grande-escala-do-zero-com-transformers\\.venv\\lib\\site-packages (from tqdm>=4.27->transformers) (0.4.6)\n",
      "Requirement already satisfied: charset-normalizer<4,>=2 in c:\\users\\alysson\\desktop\\alysson teste\\criando-um-llm-modelo-de-linguagem-de-grande-escala-do-zero-com-transformers\\.venv\\lib\\site-packages (from requests->transformers) (3.3.2)\n",
      "Requirement already satisfied: idna<4,>=2.5 in c:\\users\\alysson\\desktop\\alysson teste\\criando-um-llm-modelo-de-linguagem-de-grande-escala-do-zero-com-transformers\\.venv\\lib\\site-packages (from requests->transformers) (3.7)\n",
      "Requirement already satisfied: urllib3<3,>=1.21.1 in c:\\users\\alysson\\desktop\\alysson teste\\criando-um-llm-modelo-de-linguagem-de-grande-escala-do-zero-com-transformers\\.venv\\lib\\site-packages (from requests->transformers) (2.2.2)\n",
      "Requirement already satisfied: certifi>=2017.4.17 in c:\\users\\alysson\\desktop\\alysson teste\\criando-um-llm-modelo-de-linguagem-de-grande-escala-do-zero-com-transformers\\.venv\\lib\\site-packages (from requests->transformers) (2024.6.2)\n",
      "Downloading PyMuPDF-1.24.7-cp312-none-win_amd64.whl (3.2 MB)\n",
      "   ---------------------------------------- 0.0/3.2 MB ? eta -:--:--\n",
      "   ---------------------------------------  3.2/3.2 MB 103.4 MB/s eta 0:00:01\n",
      "   ---------------------------------------  3.2/3.2 MB 103.4 MB/s eta 0:00:01\n",
      "   ---------------------------------------- 3.2/3.2 MB 18.7 MB/s eta 0:00:00\n",
      "Downloading PyMuPDFb-1.24.6-py3-none-win_amd64.whl (12.5 MB)\n",
      "   ---------------------------------------- 0.0/12.5 MB ? eta -:--:--\n",
      "   ---------------- ----------------------- 5.0/12.5 MB 156.5 MB/s eta 0:00:01\n",
      "   ------------------- -------------------- 6.0/12.5 MB 95.1 MB/s eta 0:00:01\n",
      "   -------------------- ------------------- 6.2/12.5 MB 56.6 MB/s eta 0:00:01\n",
      "   ----------------------- ---------------- 7.3/12.5 MB 42.2 MB/s eta 0:00:01\n",
      "   ------------------------------- -------- 9.7/12.5 MB 44.2 MB/s eta 0:00:01\n",
      "   ------------------------------- -------- 9.9/12.5 MB 37.1 MB/s eta 0:00:01\n",
      "   -------------------------------- ------- 10.1/12.5 MB 34.1 MB/s eta 0:00:01\n",
      "   -------------------------------------- - 12.0/12.5 MB 28.5 MB/s eta 0:00:01\n",
      "   -------------------------------------- - 12.0/12.5 MB 28.5 MB/s eta 0:00:01\n",
      "   ---------------------------------------  12.2/12.5 MB 22.6 MB/s eta 0:00:01\n",
      "   ---------------------------------------  12.4/12.5 MB 21.8 MB/s eta 0:00:01\n",
      "   ---------------------------------------  12.5/12.5 MB 19.8 MB/s eta 0:00:01\n",
      "   ---------------------------------------  12.5/12.5 MB 19.8 MB/s eta 0:00:01\n",
      "   ---------------------------------------  12.5/12.5 MB 19.8 MB/s eta 0:00:01\n",
      "   ---------------------------------------  12.5/12.5 MB 19.8 MB/s eta 0:00:01\n",
      "   ---------------------------------------  12.5/12.5 MB 19.8 MB/s eta 0:00:01\n",
      "   ---------------------------------------  12.5/12.5 MB 19.8 MB/s eta 0:00:01\n",
      "   ---------------------------------------  12.5/12.5 MB 19.8 MB/s eta 0:00:01\n",
      "   ---------------------------------------  12.5/12.5 MB 19.8 MB/s eta 0:00:01\n",
      "   ---------------------------------------  12.5/12.5 MB 19.8 MB/s eta 0:00:01\n",
      "   ---------------------------------------  12.5/12.5 MB 19.8 MB/s eta 0:00:01\n",
      "   ---------------------------------------  12.5/12.5 MB 19.8 MB/s eta 0:00:01\n",
      "   ---------------------------------------  12.5/12.5 MB 19.8 MB/s eta 0:00:01\n",
      "   ---------------------------------------  12.5/12.5 MB 19.8 MB/s eta 0:00:01\n",
      "   ---------------------------------------  12.5/12.5 MB 19.8 MB/s eta 0:00:01\n",
      "   ---------------------------------------- 12.5/12.5 MB 8.6 MB/s eta 0:00:00\n",
      "Installing collected packages: PyMuPDFb, PyMuPDF\n",
      "Successfully installed PyMuPDF-1.24.7 PyMuPDFb-1.24.6\n",
      "Note: you may need to restart the kernel to use updated packages.\n"
     ]
    }
   ],
   "source": [
    "pip install PyMuPDF transformers"
   ]
  },
  {
   "cell_type": "code",
   "execution_count": 2,
   "metadata": {},
   "outputs": [
    {
     "name": "stderr",
     "output_type": "stream",
     "text": [
      "c:\\Users\\Alysson\\Desktop\\Alysson teste\\Criando-um-LLM-modelo-de-linguagem-de-grande-escala-do-zero-com-Transformers\\.venv\\Lib\\site-packages\\tqdm\\auto.py:21: TqdmWarning: IProgress not found. Please update jupyter and ipywidgets. See https://ipywidgets.readthedocs.io/en/stable/user_install.html\n",
      "  from .autonotebook import tqdm as notebook_tqdm\n"
     ]
    }
   ],
   "source": [
    "import fitz  # PyMuPDF\n",
    "from transformers import pipeline\n"
   ]
  },
  {
   "cell_type": "code",
   "execution_count": 3,
   "metadata": {},
   "outputs": [],
   "source": [
    "# Função para extrair texto de um arquivo PDF\n",
    "def extrair_texto_pdf(arquivo_pdf):\n",
    "    texto = \"\"\n",
    "    documento = fitz.open(arquivo_pdf)\n",
    "    for pagina_num in range(len(documento)):\n",
    "        pagina = documento.load_page(pagina_num)\n",
    "        texto += pagina.get_text()\n",
    "    return texto"
   ]
  },
  {
   "cell_type": "code",
   "execution_count": 4,
   "metadata": {},
   "outputs": [],
   "source": [
    "# Função para responder perguntas sobre o texto extraído\n",
    "def responder_perguntas(texto, pergunta):\n",
    "    nlp_pipeline = pipeline(\"question-answering\", model=\"bert-large-uncased-whole-word-masking-finetuned-squad\")\n",
    "    resposta = nlp_pipeline(question=pergunta, context=texto)\n",
    "    return resposta[\"answer\"]"
   ]
  },
  {
   "cell_type": "code",
   "execution_count": 5,
   "metadata": {},
   "outputs": [],
   "source": [
    "# Arquivo PDF de exemplo\n",
    "#arquivo_pdf = \"exemplo.pdf\"\n",
    "arquivo_pdf = \"Codigo Limpo - Completo PT.pdf\""
   ]
  },
  {
   "cell_type": "code",
   "execution_count": 6,
   "metadata": {},
   "outputs": [],
   "source": [
    "# Extrair texto do PDF\n",
    "texto_pdf = extrair_texto_pdf(arquivo_pdf)"
   ]
  },
  {
   "cell_type": "code",
   "execution_count": 7,
   "metadata": {},
   "outputs": [],
   "source": [
    "# Pergunta sobre o conteúdo do PDF\n",
    "pergunta = \"Qual é o tema principal deste documento?\""
   ]
  },
  {
   "cell_type": "code",
   "execution_count": 8,
   "metadata": {},
   "outputs": [
    {
     "name": "stderr",
     "output_type": "stream",
     "text": [
      "c:\\Users\\Alysson\\Desktop\\Alysson teste\\Criando-um-LLM-modelo-de-linguagem-de-grande-escala-do-zero-com-Transformers\\.venv\\Lib\\site-packages\\huggingface_hub\\file_download.py:157: UserWarning: `huggingface_hub` cache-system uses symlinks by default to efficiently store duplicated files but your machine does not support them in C:\\Users\\Alysson\\.cache\\huggingface\\hub\\models--bert-large-uncased-whole-word-masking-finetuned-squad. Caching files will still work but in a degraded version that might require more space on your disk. This warning can be disabled by setting the `HF_HUB_DISABLE_SYMLINKS_WARNING` environment variable. For more details, see https://huggingface.co/docs/huggingface_hub/how-to-cache#limitations.\n",
      "To support symlinks on Windows, you either need to activate Developer Mode or to run Python as an administrator. In order to see activate developer mode, see this article: https://docs.microsoft.com/en-us/windows/apps/get-started/enable-your-device-for-development\n",
      "  warnings.warn(message)\n",
      "Some weights of the model checkpoint at bert-large-uncased-whole-word-masking-finetuned-squad were not used when initializing BertForQuestionAnswering: ['bert.pooler.dense.bias', 'bert.pooler.dense.weight']\n",
      "- This IS expected if you are initializing BertForQuestionAnswering from the checkpoint of a model trained on another task or with another architecture (e.g. initializing a BertForSequenceClassification model from a BertForPreTraining model).\n",
      "- This IS NOT expected if you are initializing BertForQuestionAnswering from the checkpoint of a model that you expect to be exactly identical (initializing a BertForSequenceClassification model from a BertForSequenceClassification model).\n"
     ]
    }
   ],
   "source": [
    "# Responder à pergunta usando o texto do PDF\n",
    "resposta = responder_perguntas(texto_pdf, pergunta)"
   ]
  },
  {
   "cell_type": "code",
   "execution_count": null,
   "metadata": {},
   "outputs": [],
   "source": [
    "# Exibir a resposta\n",
    "print(f\"Resposta: {resposta}\")"
   ]
  },
  {
   "cell_type": "code",
   "execution_count": null,
   "metadata": {},
   "outputs": [],
   "source": [
    "\"\"\"\n",
    "\n",
    "Para criar um código que leia um arquivo PDF e responda perguntas sobre o conteúdo, podemos usar algumas bibliotecas Python como PyMuPDF para extrair texto de PDFs e transformers para responder perguntas usando um modelo pré-treinado como o bert-large-uncased-whole-word-masking-finetuned-squad.\n",
    "\n",
    "Certifique-se de ter instalado as bibliotecas necessárias antes de executar o código. Você pode instalá-las usando pip:\n",
    "\n",
    "bash\n",
    "\n",
    "pip install PyMuPDF transformers\n",
    "\n",
    "Aqui está um exemplo de código que faz isso:\n",
    "\n",
    "python\n",
    "\n",
    "import fitz  # PyMuPDF\n",
    "from transformers import pipeline\n",
    "\n",
    "# Função para extrair texto de um arquivo PDF\n",
    "def extrair_texto_pdf(arquivo_pdf):\n",
    "    texto = \"\"\n",
    "    documento = fitz.open(arquivo_pdf)\n",
    "    for pagina_num in range(len(documento)):\n",
    "        pagina = documento.load_page(pagina_num)\n",
    "        texto += pagina.get_text()\n",
    "    return texto\n",
    "\n",
    "# Função para responder perguntas sobre o texto extraído\n",
    "def responder_perguntas(texto, pergunta):\n",
    "    nlp_pipeline = pipeline(\"question-answering\", model=\"bert-large-uncased-whole-word-masking-finetuned-squad\")\n",
    "    resposta = nlp_pipeline(question=pergunta, context=texto)\n",
    "    return resposta[\"answer\"]\n",
    "\n",
    "# Arquivo PDF de exemplo\n",
    "arquivo_pdf = \"exemplo.pdf\"\n",
    "\n",
    "# Extrair texto do PDF\n",
    "texto_pdf = extrair_texto_pdf(arquivo_pdf)\n",
    "\n",
    "# Pergunta sobre o conteúdo do PDF\n",
    "pergunta = \"Qual é o tema principal deste documento?\"\n",
    "\n",
    "# Responder à pergunta usando o texto do PDF\n",
    "resposta = responder_perguntas(texto_pdf, pergunta)\n",
    "\n",
    "# Exibir a resposta\n",
    "print(f\"Resposta: {resposta}\")\n",
    "\n",
    "Explicação do código:\n",
    "\n",
    "    Extraindo texto do PDF: A função extrair_texto_pdf usa a biblioteca fitz (parte do PyMuPDF) para abrir o arquivo PDF e extrair texto de todas as páginas.\n",
    "\n",
    "    Respondendo perguntas: A função responder_perguntas usa a biblioteca transformers para carregar um modelo pré-treinado de question answering (perguntas e respostas) da Hugging Face's model hub. Neste exemplo, estamos usando o modelo bert-large-uncased-whole-word-masking-finetuned-squad, que é bem conhecido e treinado na tarefa de responder perguntas sobre texto.\n",
    "\n",
    "    Execução do exemplo: O exemplo carrega um arquivo PDF (exemplo.pdf), extrai o texto, faz uma pergunta sobre o conteúdo do PDF e obtém a resposta usando o modelo BERT treinado.\n",
    "\n",
    "Certifique-se de adaptar o código conforme necessário, especialmente se estiver trabalhando com PDFs complexos ou formatados de maneira diferente.\n",
    "\n",
    "O aviso que você está recebendo é informativo e não deve afetar diretamente o funcionamento do seu código para responder perguntas sobre um PDF usando o modelo BERT. Vamos explicar os pontos principais do aviso:\n",
    "\n",
    "    Aviso sobre cache e symlinks: O aviso menciona que o sistema de cache do huggingface_hub utiliza symlinks por padrão para armazenar arquivos duplicados de forma eficiente. No entanto, o seu sistema (Windows) não suporta symlinks da maneira padrão, o que pode resultar em uma versão de cache degradada que consome mais espaço em disco.\n",
    "\n",
    "    Peso do modelo não utilizado: O aviso também informa que alguns pesos do modelo BERT não foram utilizados ao inicializar o BertForQuestionAnswering. Isso é esperado porque o modelo BERT original pode ter pesos adicionais que não são necessários para a tarefa específica de question answering.\n",
    "\n",
    "Esses avisos não são erros críticos e não devem impedir que o código funcione como esperado. No entanto, se você estiver enfrentando problemas adicionais, como falhas na execução do código ou erros específicos, seria útil verificar se todas as dependências estão instaladas corretamente e se o ambiente de desenvolvimento está configurado adequadamente.\n",
    "\n",
    "Se o seu código está executando corretamente e você está obtendo respostas para suas perguntas sobre o PDF, você pode ignorar esses avisos ou seguir as sugestões fornecidas para melhorar a eficiência do cache (como ativar o modo de desenvolvedor no Windows ou executar o Python como administrador, conforme mencionado no aviso).\n",
    "\n",
    "Se precisar de mais assistência ou tiver outras perguntas, estou à disposição para ajudar!\n",
    "\n",
    "\"\"\""
   ]
  }
 ],
 "metadata": {
  "kernelspec": {
   "display_name": ".venv",
   "language": "python",
   "name": "python3"
  },
  "language_info": {
   "codemirror_mode": {
    "name": "ipython",
    "version": 3
   },
   "file_extension": ".py",
   "mimetype": "text/x-python",
   "name": "python",
   "nbconvert_exporter": "python",
   "pygments_lexer": "ipython3",
   "version": "3.12.4"
  }
 },
 "nbformat": 4,
 "nbformat_minor": 2
}
